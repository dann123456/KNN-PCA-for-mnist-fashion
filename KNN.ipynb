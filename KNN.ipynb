{
 "cells": [
  {
   "cell_type": "markdown",
   "metadata": {},
   "source": [
    "## 1. Import libraries and data exploration"
   ]
  },
  {
   "cell_type": "code",
   "execution_count": 1,
   "metadata": {},
   "outputs": [],
   "source": [
    "import os\n",
    "import time\n",
    "import h5py\n",
    "import random\n",
    "import math\n",
    "import operator\n",
    "import numpy as np\n",
    "import pandas as pd\n",
    "import matplotlib.pyplot as plt\n",
    "random.seed(7)"
   ]
  },
  {
   "cell_type": "code",
   "execution_count": 2,
   "metadata": {},
   "outputs": [
    {
     "name": "stdout",
     "output_type": "stream",
     "text": [
      "['images_training.h5', 'labels_training.h5']\n",
      "['images_testing.h5', 'labels_testing_2000.h5']\n"
     ]
    }
   ],
   "source": [
    "# Check a list containing the names of the entries in the directory given by path\n",
    "\n",
    "print(os.listdir(\"./input/train\"))\n",
    "print(os.listdir(\"./input/test\"))"
   ]
  },
  {
   "cell_type": "code",
   "execution_count": 3,
   "metadata": {},
   "outputs": [
    {
     "name": "stdout",
     "output_type": "stream",
     "text": [
      "(30000, 784) (30000,)\n"
     ]
    }
   ],
   "source": [
    "# Load the train images and labels data and check the shape\n",
    "\n",
    "with h5py.File('./input/train/images_training.h5','r') as H:\n",
    "    data_train = np.copy(H['datatrain'])\n",
    "with h5py.File('./input/train/labels_training.h5','r') as H:\n",
    "    label_train = np.copy(H['labeltrain'])\n",
    "\n",
    "print(data_train.shape,label_train.shape) #30,000 images and each image has 784 features"
   ]
  },
  {
   "cell_type": "code",
   "execution_count": 4,
   "metadata": {},
   "outputs": [
    {
     "name": "stdout",
     "output_type": "stream",
     "text": [
      "(10000, 784) (2000,)\n"
     ]
    }
   ],
   "source": [
    "# Load the test images and labels data and check the shape \n",
    "# as followed the instruction that using H['datatest'], H['labeltest'] for test dataset\n",
    "\n",
    "with h5py.File('./input/test/images_testing.h5','r') as H:\n",
    "    data_test = np.copy(H['datatest'])\n",
    "with h5py.File('./input/test/labels_testing_2000.h5','r') as H:\n",
    "    label_test = np.copy(H['labeltest'])\n",
    "    \n",
    "print(data_test.shape,label_test.shape) #10,000 test examples, 2000 of them have labels"
   ]
  },
  {
   "cell_type": "markdown",
   "metadata": {},
   "source": [
    "## 2. k-NN algorithm"
   ]
  },
  {
   "cell_type": "code",
   "execution_count": 5,
   "metadata": {},
   "outputs": [],
   "source": [
    "# Handle data : split the data set randomly\n",
    "\n",
    "def split_dataset(dataset, split_ratio):\n",
    "    train_size = int(len(dataset) * split_ratio)\n",
    "    train_set = []\n",
    "    copy = list(dataset)\n",
    "    while len(train_set) < train_size:\n",
    "        index = random.randrange(len(copy))\n",
    "        train_set.append(copy.pop(index))\n",
    "    return [np.array(train_set), np.array(copy)]"
   ]
  },
  {
   "cell_type": "code",
   "execution_count": 6,
   "metadata": {},
   "outputs": [],
   "source": [
    "# Similarity : Calculate the distance between two data instances\n",
    "\n",
    "def euclidean_distance(training_set, test_instance):\n",
    "    distances = np.sqrt(np.sum(np.square(np.subtract(training_set[:,:-1], test_instance[:-1])) ,axis=1))\n",
    "    \n",
    "    return list(enumerate(distances))"
   ]
  },
  {
   "cell_type": "code",
   "execution_count": 7,
   "metadata": {},
   "outputs": [],
   "source": [
    "# Neighbors : Locate k most similar data instances\n",
    "\n",
    "def get_neighbors(training_set, test_instance, k):\n",
    "    distances = euclidean_distance(training_set, test_instance)\n",
    "    distances.sort(key=operator.itemgetter(1))\n",
    "    neighbors = []\n",
    "    for x in range(k):\n",
    "        neighbors.append(training_set[distances[x][0]])\n",
    "    return neighbors"
   ]
  },
  {
   "cell_type": "code",
   "execution_count": 8,
   "metadata": {},
   "outputs": [],
   "source": [
    "# Response : Generate a response from a set of data instances\n",
    "\n",
    "def get_response(neighbors):\n",
    "    class_votes = {}\n",
    "    for x in range(len(neighbors)):\n",
    "        response = neighbors[x][-1]\n",
    "        if response in class_votes:\n",
    "            class_votes[response] += 1\n",
    "        else:\n",
    "            class_votes[response] = 1\n",
    "    sorted_votes = sorted(class_votes.items(), key=operator.itemgetter(1), reverse=True)\n",
    "    \n",
    "    return sorted_votes[0][0]"
   ]
  },
  {
   "cell_type": "code",
   "execution_count": 9,
   "metadata": {},
   "outputs": [],
   "source": [
    "# Accuracy : Summarize the accuracy of predictions\n",
    "\n",
    "def get_accuracy(test_set, predictions):\n",
    "    correct = 0\n",
    "    for x in range(len(test_set)):\n",
    "        if test_set[x,-1] == predictions[x]:\n",
    "            correct += 1\n",
    "    return (correct/float(len(test_set))) * 100.0"
   ]
  },
  {
   "cell_type": "code",
   "execution_count": 10,
   "metadata": {},
   "outputs": [],
   "source": [
    "# Confusion Matrix : Calculate and show the confusion matrix\n",
    "\n",
    "def calc_confusionmatrix(x_test, y_pred):\n",
    "    labels=np.unique(y_pred)\n",
    "    K = len(labels)\n",
    "    confusionmatrix = np.zeros((K, K))\n",
    "    \n",
    "    for i in range(len(y_pred)):\n",
    "        confusionmatrix[int(x_test[i][-1])][int(y_pred[i])] +=1\n",
    "    \n",
    "    return confusionmatrix\n",
    "\n",
    "def show_confusionmatrix_graph(confusionmatrix):\n",
    "    fig, ax = plt.subplots()\n",
    "    im = ax.imshow(confusionmatrix, interpolation='nearest', cmap=plt.cm.Blues)\n",
    "    ax.figure.colorbar(im, ax=ax)\n",
    "    plt.show()\n",
    "    "
   ]
  },
  {
   "cell_type": "code",
   "execution_count": 11,
   "metadata": {},
   "outputs": [],
   "source": [
    "# Generate prediction and concatenate the input (x) and output (y)\n",
    "\n",
    "def predict(training_set, test_set):\n",
    "    predictions=[]\n",
    "    k = 3\n",
    "    print(\"Number of nearest neighbors: \",k)\n",
    "    print(\"Training dataset... please wait... around 2mins...\\n.\\n.\\n.\")\n",
    "    for x in range(len(test_set)):\n",
    "        neighbors = get_neighbors(training_set, test_set[x], k)\n",
    "        result = get_response(neighbors)\n",
    "        predictions.append(result)\n",
    "        \n",
    "    return predictions  \n",
    "\n",
    "def concat_array(x, y):\n",
    "    return np.concatenate((x, np.reshape(y, (len(y), 1))), axis=1)\n"
   ]
  },
  {
   "cell_type": "markdown",
   "metadata": {},
   "source": [
    "## 3. PCA implementation"
   ]
  },
  {
   "cell_type": "code",
   "execution_count": 12,
   "metadata": {},
   "outputs": [],
   "source": [
    "# Create PCA space and projection of new data points\n",
    "\n",
    "from numpy import mean\n",
    "from numpy import cov\n",
    "from numpy.linalg import eig\n",
    "\n",
    "def pca(x_train, component):\n",
    "\n",
    "    # calculate the mean of each column\n",
    "    M = mean(x_train.T, axis=1)\n",
    "    # center columns by subtracting column means\n",
    "    C = x_train - M\n",
    "    # calculate covariance matrix of centered matrix\n",
    "    V = cov(C.T)\n",
    "    \n",
    "    # eigendecomposition of covariance matrix\n",
    "    values, vectors = eig(V)\n",
    "\n",
    "    # Make a list of (eigenvalue, eigenvector) tuples\n",
    "    eig_pairs = [(np.abs(values[i]), vectors[:,i]) for i in range(len(vectors))]\n",
    "\n",
    "    # Sort the (eigenvalue, eigenvector) tuples from high to low\n",
    "    eig_pairs.sort(key=lambda x: x[0], reverse=True)\n",
    "\n",
    "    tot = sum(values)\n",
    "    var_exp = [(i / tot)*100 for i in sorted(values, reverse=True)]\n",
    "    cum_var_exp = np.cumsum(var_exp)\n",
    "    #print(\"Variance captured by each component is \\n\",var_exp[0:50])\n",
    "    #print(40 * '-')\n",
    "    print(\"Cumulative variance captured at component number\", component, \"is\",cum_var_exp[component],\"%\\n\")\n",
    "    \n",
    "    \n",
    "    plt.plot(list(range(1,len(cum_var_exp)+1)), cum_var_exp)\n",
    "    plt.xlabel('PCA Component')\n",
    "    plt.ylabel('Var explained')\n",
    "\n",
    "    P = C.dot(vectors[:,0:component])\n",
    "    return [P, vectors[:,0:component]]\n",
    "    \n",
    "def projection(new, vectors):\n",
    "    # calculate the mean of each column\n",
    "    M = mean(new.T, axis=1)\n",
    "    # center columns by subtracting column means\n",
    "    C = new - M\n",
    "    P = C.dot(vectors)\n",
    "    return P"
   ]
  },
  {
   "cell_type": "markdown",
   "metadata": {},
   "source": [
    "## 4. Run prediction and generate the output label file"
   ]
  },
  {
   "cell_type": "code",
   "execution_count": 13,
   "metadata": {
    "scrolled": false
   },
   "outputs": [
    {
     "name": "stdout",
     "output_type": "stream",
     "text": [
      "Cumulative variance captured at component number 50 is 86.40020328767483 %\n",
      "\n",
      "pca train shape:  (24000, 50)\n",
      "pca test shape:  (6000, 50) \n",
      "\n",
      "Number of nearest neighbors:  3\n",
      "Training dataset... please wait... around 2mins...\n",
      ".\n",
      ".\n",
      ".\n",
      "6000\n",
      "Validation accuracy: 84.05 %\n",
      "Running duration: 130.64780831336975 seconds\n",
      "(6000,)\n"
     ]
    },
    {
     "data": {
      "image/png": "[encoded data removed]",
      "text/plain": [
       "<Figure size 432x288 with 1 Axes>"
      ]
     },
     "metadata": {
      "needs_background": "light"
     },
     "output_type": "display_data"
    },
    {
     "data": {
      "image/png": "[encoded data removed]",
      "text/plain": [
       "<Figure size 432x288 with 2 Axes>"
      ]
     },
     "metadata": {
      "needs_background": "light"
     },
     "output_type": "display_data"
    }
   ],
   "source": [
    "# run training with 80% of 30k (24k train and 6k test) - run time around 2mins\n",
    "# this test accuracy appeared to have lower accuracy than the 30k train - 2k test\n",
    "# due to the fact that we learned more with 30k\n",
    "\n",
    "def run_training(x_train, y_train):\n",
    "    data_set = concat_array(x_train, y_train)\n",
    "    split_ratio = 0.80\n",
    "    training_set, test_set = split_dataset(data_set, split_ratio)\n",
    "\n",
    "    # Apply pca with training set using 50 components\n",
    "    train, vectors = pca(training_set[:,0:-1], 50)\n",
    "    print(\"pca train shape: \",train.shape)\n",
    "    \n",
    "    # projection of new data onto pca\n",
    "    test = projection(test_set[:,0:-1], vectors)\n",
    "    print(\"pca test shape: \",test.shape, \"\\n\")\n",
    "    \n",
    "    train = concat_array(train, training_set[:,-1])\n",
    "    test = concat_array(test, test_set[:,-1])\n",
    "    \n",
    "    start = time.time()\n",
    "    predictions= predict(train, test)\n",
    "    end = time.time()\n",
    "    \n",
    "    print(len(predictions))\n",
    "    \n",
    "    # get accuracy of the predictions\n",
    "    accuracy = get_accuracy(test_set, predictions)\n",
    "    print('Validation accuracy: ' + repr(accuracy), '%')\n",
    "    print('Running duration: ' + repr(end - start), \"seconds\")\n",
    "    \n",
    "    label = np.asarray(predictions)\n",
    "    print(label.shape)\n",
    "    \n",
    "    show_confusionmatrix_graph(calc_confusionmatrix(test_set, predictions))\n",
    "\n",
    "run_training(\n",
    "    data_train, \n",
    "    label_train\n",
    ")"
   ]
  },
  {
   "cell_type": "code",
   "execution_count": 14,
   "metadata": {},
   "outputs": [],
   "source": [
    "# assume output is the predicted labels\n",
    "# (5000,) \n",
    "def output_result(output):\n",
    "    with h5py.File('output/predicted_labels.h5','w') as H:\n",
    "        H.create_dataset('output',data=output)\n",
    "\n",
    "    print(output)"
   ]
  },
  {
   "cell_type": "code",
   "execution_count": 15,
   "metadata": {},
   "outputs": [
    {
     "name": "stdout",
     "output_type": "stream",
     "text": [
      "Cumulative variance captured at component number 50 is 86.40140010931123 %\n",
      "\n",
      "pca train shape:  (30000, 50)\n",
      "pca test shape:  (5000, 50) \n",
      "\n",
      "Number of nearest neighbors:  3\n",
      "Training dataset... please wait... around 2mins...\n",
      ".\n",
      ".\n",
      ".\n",
      "Test accuracy on 2k test samples: 85.25%\n",
      "Running duration: 135.17899680137634seconds\n",
      "(5000,)\n",
      "[1. 0. 9. ... 5. 0. 5.]\n"
     ]
    },
    {
     "data": {
      "image/png": "[encoded data removed]",
      "text/plain": [
       "<Figure size 432x288 with 1 Axes>"
      ]
     },
     "metadata": {
      "needs_background": "light"
     },
     "output_type": "display_data"
    },
    {
     "data": {
      "image/png": "[encoded data removed]",
      "text/plain": [
       "<Figure size 432x288 with 2 Axes>"
      ]
     },
     "metadata": {
      "needs_background": "light"
     },
     "output_type": "display_data"
    }
   ],
   "source": [
    "# run testing with 30k train and 2k test data set\n",
    "def run_testing(x_train, y_train, x_test, y_test):\n",
    "    # pca the 30k dataset using 50 components\n",
    "    # train variables = the pca matrix output\n",
    "    # vectors = eigen vectors of from the pca\n",
    "    train, vectors = pca(x_train, 50)\n",
    "    print(\"pca train shape: \",train.shape)\n",
    "    \n",
    "    # projection of 5k new data onto pca\n",
    "    test = projection(x_test, vectors)\n",
    "    print(\"pca test shape: \",test.shape, \"\\n\")\n",
    "    \n",
    "    train = concat_array(train, y_train)\n",
    "    # fill the label array with 0 for the 8k unlabeled samples\n",
    "    test = concat_array(test, np.pad(y_test, (0, 3000), 'constant'))\n",
    "\n",
    "    # Train 30k and make prediction on 10k test samples\n",
    "    start = time.time()\n",
    "    predictions = predict(train, test)\n",
    "    end = time.time()\n",
    "    \n",
    "    # get accuracy of the 1st 2k test predictions\n",
    "    accuracy = get_accuracy(test[0:2000], predictions[0:2000])\n",
    "    print('Test accuracy on 2k test samples: ' + repr(accuracy) + '%')\n",
    "    print('Running duration: ' + repr(end - start) + \"seconds\")\n",
    "    \n",
    "    \n",
    "    label = np.asarray(predictions)\n",
    "    print(label.shape)\n",
    "    # output the predict array\n",
    "    output_result(label)\n",
    "    \n",
    "    show_confusionmatrix_graph(calc_confusionmatrix(test, predictions))\n",
    "\n",
    "\n",
    "run_testing(\n",
    "    data_train, \n",
    "    label_train, \n",
    "    data_test[0:5000], \n",
    "    label_test[0:5000]\n",
    ")"
   ]
  },
  {
   "cell_type": "code",
   "execution_count": 16,
   "metadata": {},
   "outputs": [
    {
     "name": "stdout",
     "output_type": "stream",
     "text": [
      "(5000,)\n",
      "[1. 0. 9. ... 5. 0. 5.]\n"
     ]
    }
   ],
   "source": [
    "# cross check the output file\n",
    "\n",
    "# Open and read the printed output\n",
    "with h5py.File('./output/predicted_labels.h5','r') as H:\n",
    "    test_result_label = np.copy(H['output'])\n",
    "    \n",
    "print(test_result_label.shape)\n",
    "print(test_result_label)"
   ]
  },
  {
   "cell_type": "markdown",
   "metadata": {},
   "source": [
    "## The end"
   ]
  }
 ],
 "metadata": {
  "kernelspec": {
   "display_name": "Python 3",
   "language": "python",
   "name": "python3"
  },
  "language_info": {
   "codemirror_mode": {
    "name": "ipython",
    "version": 3
   },
   "file_extension": ".py",
   "mimetype": "text/x-python",
   "name": "python",
   "nbconvert_exporter": "python",
   "pygments_lexer": "ipython3",
   "version": "3.7.3"
  }
 },
 "nbformat": 4,
 "nbformat_minor": 2
}
